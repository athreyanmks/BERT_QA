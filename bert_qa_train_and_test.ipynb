{
 "cells": [
  {
   "cell_type": "code",
   "execution_count": null,
   "id": "ynOU_pZ72kzk",
   "metadata": {
    "colab": {
     "base_uri": "https://localhost:8080/"
    },
    "id": "ynOU_pZ72kzk",
    "outputId": "1cd1cae3-ec09-45fe-b207-9e24119e4f93"
   },
   "outputs": [],
   "source": [
    "!pip install datasets\n",
    "!pip install accelerate -U"
   ]
  },
  {
   "cell_type": "code",
   "execution_count": 2,
   "id": "_wa1m1ML11-h",
   "metadata": {
    "id": "_wa1m1ML11-h"
   },
   "outputs": [],
   "source": [
    "import pickle\n",
    "from transformers import BertForQuestionAnswering\n",
    "from transformers import BertTokenizer\n",
    "from transformers import TrainingArguments\n",
    "from transformers import Trainer\n",
    "from datasets import Dataset\n",
    "import pandas as pd\n",
    "import numpy as np\n",
    "from transformers import pipeline"
   ]
  },
  {
   "cell_type": "code",
   "execution_count": 4,
   "id": "f55512c5-a6ba-40eb-af9f-e5502aa010aa",
   "metadata": {
    "colab": {
     "base_uri": "https://localhost:8080/"
    },
    "id": "f55512c5-a6ba-40eb-af9f-e5502aa010aa",
    "outputId": "01cfcde2-1101-4a84-b3a9-bf70fe320817"
   },
   "outputs": [
    {
     "name": "stdout",
     "output_type": "stream",
     "text": [
      "dict_keys(['id', 'title', 'context', 'question', 'answers'])\n",
      "dict_keys(['id', 'title', 'context', 'question', 'answers'])\n",
      "dict_keys(['id', 'title', 'context', 'question', 'answers'])\n",
      "dict_keys(['input_ids', 'attention_mask', 'start_positions', 'end_positions'])\n",
      "dict_keys(['input_ids', 'attention_mask', 'start_positions', 'end_positions'])\n",
      "dict_keys(['input_ids', 'attention_mask', 'start_positions', 'end_positions'])\n"
     ]
    }
   ],
   "source": [
    "with open (drive_path + 'dataset/train_dict.pkl', 'rb') as f:\n",
    "    train_dict = pickle . load (f)\n",
    "with open (drive_path + 'dataset/test_dict.pkl', 'rb') as f:\n",
    "    test_dict = pickle.load (f)\n",
    "\n",
    "with open (drive_path + 'dataset/eval_dict.pkl', 'rb') as f:\n",
    "    eval_dict = pickle.load (f)\n",
    "\n",
    "with open (drive_path + 'dataset/train_data_processed.pkl', 'rb') as f:\n",
    "    train_processed = pickle . load (f)\n",
    "\n",
    "with open (drive_path + 'dataset/test_data_processed.pkl', 'rb') as f:\n",
    "    test_processed = pickle . load (f)\n",
    "\n",
    "with open (drive_path + 'dataset/eval_data_processed.pkl','rb') as f:\n",
    "    eval_processed = pickle . load (f)\n",
    "\n",
    "print( train_dict . keys () )\n",
    "print( test_dict . keys () )\n",
    "print( eval_dict . keys () )\n",
    "\n",
    "print( train_processed . keys () )\n",
    "print( test_processed . keys () )\n",
    "print( eval_processed . keys () )"
   ]
  },
  {
   "cell_type": "code",
   "execution_count": 5,
   "id": "591c1b66-38c0-41b9-a665-af5d6cf428c9",
   "metadata": {
    "id": "591c1b66-38c0-41b9-a665-af5d6cf428c9",
    "scrolled": true
   },
   "outputs": [],
   "source": [
    "# print(test_processed)"
   ]
  },
  {
   "cell_type": "code",
   "execution_count": 6,
   "id": "297e826e-07b4-413f-a3fd-31cf41251d77",
   "metadata": {
    "colab": {
     "base_uri": "https://localhost:8080/",
     "height": 862,
     "referenced_widgets": [
      "e6ab49917e574301bb546c2c256b9bff",
      "9fcf9b58525c4a02a4460417e436f018",
      "8fd89f4375c249cc945944cd40825d22",
      "844afd21f219469fb836e661e53dafdf",
      "fa6677bf32074af3a2c488adf559c491",
      "2e64969d26d84513bcb68f670ae46c42",
      "72722a77d0674d5697b46c35d5bed3c5",
      "55ede0bb759849c29bb757bb53d0c23d",
      "7346cd2ecc98455d8fb1f2ee9bddcce4",
      "8591c0eb397341cfa59a14ff931d5785",
      "788289188ba542ff8daa052454480fc8",
      "d62871715d2b4cc4b18caac46d21b9b4",
      "6c83030173c1408d9ea0f2160a85fb6b",
      "7035b1606b634165861a829e258dba8d",
      "d174d2b9a77f4f23b2170ef2e5ab3ee8",
      "a3157155f4514321b12623adae282de7",
      "759e8858847d437a9f1719303699226b",
      "a0cf6bda18da4084b934a9475a55fefa",
      "85febd4f5a4849038f8cfcdc99454d60",
      "0d2e26e769a64854a381e6737bec65d7",
      "320f3a8106ed4fa3bbd30ef89fc4cd9c",
      "4de22f1c86e94480a7b5893f8d336556"
     ]
    },
    "id": "297e826e-07b4-413f-a3fd-31cf41251d77",
    "outputId": "3711f17c-4749-42a8-9b0e-3e5e0f0acff7"
   },
   "outputs": [
    {
     "name": "stderr",
     "output_type": "stream",
     "text": [
      "/usr/local/lib/python3.11/dist-packages/huggingface_hub/utils/_auth.py:94: UserWarning: \n",
      "The secret `HF_TOKEN` does not exist in your Colab secrets.\n",
      "To authenticate with the Hugging Face Hub, create a token in your settings tab (https://huggingface.co/settings/tokens), set it as secret in your Google Colab and restart your session.\n",
      "You will be able to reuse this secret in all of your notebooks.\n",
      "Please note that authentication is recommended but still optional to access public models or datasets.\n",
      "  warnings.warn(\n"
     ]
    },
    {
     "data": {
      "application/vnd.jupyter.widget-view+json": {
       "model_id": "e6ab49917e574301bb546c2c256b9bff",
       "version_major": 2,
       "version_minor": 0
      },
      "text/plain": [
       "config.json:   0%|          | 0.00/570 [00:00<?, ?B/s]"
      ]
     },
     "metadata": {},
     "output_type": "display_data"
    },
    {
     "data": {
      "application/vnd.jupyter.widget-view+json": {
       "model_id": "d62871715d2b4cc4b18caac46d21b9b4",
       "version_major": 2,
       "version_minor": 0
      },
      "text/plain": [
       "model.safetensors:   0%|          | 0.00/440M [00:00<?, ?B/s]"
      ]
     },
     "metadata": {},
     "output_type": "display_data"
    },
    {
     "name": "stderr",
     "output_type": "stream",
     "text": [
      "Some weights of BertForQuestionAnswering were not initialized from the model checkpoint at bert-base-uncased and are newly initialized: ['qa_outputs.bias', 'qa_outputs.weight']\n",
      "You should probably TRAIN this model on a down-stream task to be able to use it for predictions and inference.\n"
     ]
    },
    {
     "name": "stdout",
     "output_type": "stream",
     "text": [
      "{'bert': BertModel(\n",
      "  (embeddings): BertEmbeddings(\n",
      "    (word_embeddings): Embedding(30522, 768, padding_idx=0)\n",
      "    (position_embeddings): Embedding(512, 768)\n",
      "    (token_type_embeddings): Embedding(2, 768)\n",
      "    (LayerNorm): LayerNorm((768,), eps=1e-12, elementwise_affine=True)\n",
      "    (dropout): Dropout(p=0.1, inplace=False)\n",
      "  )\n",
      "  (encoder): BertEncoder(\n",
      "    (layer): ModuleList(\n",
      "      (0-11): 12 x BertLayer(\n",
      "        (attention): BertAttention(\n",
      "          (self): BertSdpaSelfAttention(\n",
      "            (query): Linear(in_features=768, out_features=768, bias=True)\n",
      "            (key): Linear(in_features=768, out_features=768, bias=True)\n",
      "            (value): Linear(in_features=768, out_features=768, bias=True)\n",
      "            (dropout): Dropout(p=0.1, inplace=False)\n",
      "          )\n",
      "          (output): BertSelfOutput(\n",
      "            (dense): Linear(in_features=768, out_features=768, bias=True)\n",
      "            (LayerNorm): LayerNorm((768,), eps=1e-12, elementwise_affine=True)\n",
      "            (dropout): Dropout(p=0.1, inplace=False)\n",
      "          )\n",
      "        )\n",
      "        (intermediate): BertIntermediate(\n",
      "          (dense): Linear(in_features=768, out_features=3072, bias=True)\n",
      "          (intermediate_act_fn): GELUActivation()\n",
      "        )\n",
      "        (output): BertOutput(\n",
      "          (dense): Linear(in_features=3072, out_features=768, bias=True)\n",
      "          (LayerNorm): LayerNorm((768,), eps=1e-12, elementwise_affine=True)\n",
      "          (dropout): Dropout(p=0.1, inplace=False)\n",
      "        )\n",
      "      )\n",
      "    )\n",
      "  )\n",
      "), 'qa_outputs': Linear(in_features=768, out_features=2, bias=True)}\n"
     ]
    }
   ],
   "source": [
    "\n",
    "model_name = 'bert-base-uncased'\n",
    "model = BertForQuestionAnswering. from_pretrained (model_name)\n",
    "\n",
    "print( model . _modules )"
   ]
  },
  {
   "cell_type": "code",
   "execution_count": 7,
   "id": "ded46b74-93d9-42c6-b8b9-b41861edd355",
   "metadata": {
    "id": "ded46b74-93d9-42c6-b8b9-b41861edd355"
   },
   "outputs": [],
   "source": [
    "training_args = TrainingArguments (\n",
    "output_dir =drive_path + 'results', # output directory\n",
    "use_mps_device = False ,\n",
    "num_train_epochs =15 , # total number of training epochs , change this as you need\n",
    "per_device_train_batch_size=8 , # batch size per device during training ,change this as you need\n",
    "per_device_eval_batch_size=8 , # batch size for evaluation , change this as you need\n",
    "weight_decay =0.01 , # strength of weight decay\n",
    "logging_dir = drive_path + 'logs', # directory for storing logs\n",
    ")"
   ]
  },
  {
   "cell_type": "code",
   "execution_count": null,
   "id": "d06ace86-605b-4541-9e93-4dcf18c73f1a",
   "metadata": {
    "colab": {
     "base_uri": "https://localhost:8080/",
     "height": 336
    },
    "id": "d06ace86-605b-4541-9e93-4dcf18c73f1a",
    "outputId": "b92f3abb-6ff2-4873-aafb-299ac00e2fa9"
   },
   "outputs": [
    {
     "name": "stderr",
     "output_type": "stream",
     "text": [
      "\u001b[34m\u001b[1mwandb\u001b[0m: \u001b[33mWARNING\u001b[0m The `run_name` is currently set to the same value as `TrainingArguments.output_dir`. If this was not intended, please specify a different run name by setting the `TrainingArguments.run_name` parameter.\n"
     ]
    },
    {
     "data": {
      "application/javascript": [
       "\n",
       "        window._wandbApiKey = new Promise((resolve, reject) => {\n",
       "            function loadScript(url) {\n",
       "            return new Promise(function(resolve, reject) {\n",
       "                let newScript = document.createElement(\"script\");\n",
       "                newScript.onerror = reject;\n",
       "                newScript.onload = resolve;\n",
       "                document.body.appendChild(newScript);\n",
       "                newScript.src = url;\n",
       "            });\n",
       "            }\n",
       "            loadScript(\"https://cdn.jsdelivr.net/npm/postmate/build/postmate.min.js\").then(() => {\n",
       "            const iframe = document.createElement('iframe')\n",
       "            iframe.style.cssText = \"width:0;height:0;border:none\"\n",
       "            document.body.appendChild(iframe)\n",
       "            const handshake = new Postmate({\n",
       "                container: iframe,\n",
       "                url: 'https://wandb.ai/authorize'\n",
       "            });\n",
       "            const timeout = setTimeout(() => reject(\"Couldn't auto authenticate\"), 5000)\n",
       "            handshake.then(function(child) {\n",
       "                child.on('authorize', data => {\n",
       "                    clearTimeout(timeout)\n",
       "                    resolve(data)\n",
       "                });\n",
       "            });\n",
       "            })\n",
       "        });\n",
       "    "
      ],
      "text/plain": [
       "<IPython.core.display.Javascript object>"
      ]
     },
     "metadata": {},
     "output_type": "display_data"
    },
    {
     "name": "stderr",
     "output_type": "stream",
     "text": [
      "\u001b[34m\u001b[1mwandb\u001b[0m: Logging into wandb.ai. (Learn how to deploy a W&B server locally: https://wandb.me/wandb-server)\n",
      "\u001b[34m\u001b[1mwandb\u001b[0m: You can find your API key in your browser here: https://wandb.ai/authorize\n",
      "wandb: Paste an API key from your profile and hit enter:"
     ]
    },
    {
     "name": "stdout",
     "output_type": "stream",
     "text": [
      " ··········\n"
     ]
    },
    {
     "name": "stderr",
     "output_type": "stream",
     "text": [
      "\u001b[34m\u001b[1mwandb\u001b[0m: \u001b[33mWARNING\u001b[0m If you're specifying your api key in code, ensure this code is not shared publicly.\n",
      "\u001b[34m\u001b[1mwandb\u001b[0m: \u001b[33mWARNING\u001b[0m Consider setting the WANDB_API_KEY environment variable, or running `wandb login` from the command line.\n",
      "\u001b[34m\u001b[1mwandb\u001b[0m: Appending key for api.wandb.ai to your netrc file: /root/.netrc\n",
      "\u001b[34m\u001b[1mwandb\u001b[0m: Currently logged in as: \u001b[33mathreyanmks\u001b[0m (\u001b[33mathreyanmks-purdue-university\u001b[0m) to \u001b[32mhttps://api.wandb.ai\u001b[0m. Use \u001b[1m`wandb login --relogin`\u001b[0m to force relogin\n",
      "\u001b[34m\u001b[1mwandb\u001b[0m: Using wandb-core as the SDK backend.  Please refer to https://wandb.me/wandb-core for more information.\n"
     ]
    },
    {
     "data": {
      "text/html": [
       "Tracking run with wandb version 0.19.6"
      ],
      "text/plain": [
       "<IPython.core.display.HTML object>"
      ]
     },
     "metadata": {},
     "output_type": "display_data"
    },
    {
     "data": {
      "text/html": [
       "Run data is saved locally in <code>/content/wandb/run-20250223_015416-67tfrpuh</code>"
      ],
      "text/plain": [
       "<IPython.core.display.HTML object>"
      ]
     },
     "metadata": {},
     "output_type": "display_data"
    },
    {
     "data": {
      "text/html": [
       "Syncing run <strong><a href='https://wandb.ai/athreyanmks-purdue-university/huggingface/runs/67tfrpuh' target=\"_blank\">/content/drive/My Drive/ece60146/HW10/results</a></strong> to <a href='https://wandb.ai/athreyanmks-purdue-university/huggingface' target=\"_blank\">Weights & Biases</a> (<a href='https://wandb.me/developer-guide' target=\"_blank\">docs</a>)<br>"
      ],
      "text/plain": [
       "<IPython.core.display.HTML object>"
      ]
     },
     "metadata": {},
     "output_type": "display_data"
    },
    {
     "data": {
      "text/html": [
       " View project at <a href='https://wandb.ai/athreyanmks-purdue-university/huggingface' target=\"_blank\">https://wandb.ai/athreyanmks-purdue-university/huggingface</a>"
      ],
      "text/plain": [
       "<IPython.core.display.HTML object>"
      ]
     },
     "metadata": {},
     "output_type": "display_data"
    },
    {
     "data": {
      "text/html": [
       " View run at <a href='https://wandb.ai/athreyanmks-purdue-university/huggingface/runs/67tfrpuh' target=\"_blank\">https://wandb.ai/athreyanmks-purdue-university/huggingface/runs/67tfrpuh</a>"
      ],
      "text/plain": [
       "<IPython.core.display.HTML object>"
      ]
     },
     "metadata": {},
     "output_type": "display_data"
    },
    {
     "data": {
      "text/html": [
       "\n",
       "    <div>\n",
       "      \n",
       "      <progress value='439' max='13125' style='width:300px; height:20px; vertical-align: middle;'></progress>\n",
       "      [  439/13125 04:16 < 2:04:19, 1.70 it/s, Epoch 0.50/15]\n",
       "    </div>\n",
       "    <table border=\"1\" class=\"dataframe\">\n",
       "  <thead>\n",
       " <tr style=\"text-align: left;\">\n",
       "      <th>Step</th>\n",
       "      <th>Training Loss</th>\n",
       "    </tr>\n",
       "  </thead>\n",
       "  <tbody>\n",
       "  </tbody>\n",
       "</table><p>"
      ],
      "text/plain": [
       "<IPython.core.display.HTML object>"
      ]
     },
     "metadata": {},
     "output_type": "display_data"
    }
   ],
   "source": [
    "train_dataset = Dataset . from_pandas ( pd . DataFrame (train_processed ))\n",
    "eval_dataset = Dataset . from_pandas ( pd . DataFrame (eval_processed ))\n",
    "test_dataset = Dataset . from_pandas ( pd . DataFrame (test_processed ))\n",
    "\n",
    "trainer = Trainer (\n",
    "model=model , # theinstantiated Transformersmodel to be fine - tuned\n",
    "args = training_args , # training arguments , defined above\n",
    "train_dataset = train_dataset , # training dataset\n",
    "eval_dataset = eval_dataset # evaluation dataset\n",
    ")\n",
    "trainer . train ()\n",
    "\n",
    "trainer.save_model('bert_tuned_15e.pt')\n"
   ]
  },
  {
   "cell_type": "code",
   "execution_count": null,
   "id": "eda22f31-8642-4305-bb71-63b4a9d2929c",
   "metadata": {
    "id": "eda22f31-8642-4305-bb71-63b4a9d2929c"
   },
   "outputs": [],
   "source": [
    "def compute_exact_match ( prediction , truth ):\n",
    "    return int( prediction.lower() == truth.lower() )\n",
    "\n",
    "def f1_score ( prediction , truth ):\n",
    "    pred_tokens = prediction . split ()\n",
    "    truth_tokens = truth . split ()\n",
    "\n",
    "     # if either the prediction or the truth is no - answer then f1 = 1 if they agree , 0 otherwise\n",
    "    if len( pred_tokens ) == 0 or len( truth_tokens ) == 0:\n",
    "        return int ( pred_tokens == truth_tokens )\n",
    "\n",
    "    common_tokens = set( pred_tokens ) & set( truth_tokens )\n",
    "\n",
    "     # if there are no common tokens then f1 = 0\n",
    "    if len( common_tokens ) == 0:\n",
    "        return 0\n",
    "\n",
    "    prec = len( common_tokens ) / len( pred_tokens )\n",
    "    rec = len( common_tokens ) / len( truth_tokens )\n",
    "\n",
    "    return 2 * ( prec * rec ) / ( prec + rec )"
   ]
  },
  {
   "cell_type": "code",
   "execution_count": null,
   "id": "kPLQ8wu47lCW",
   "metadata": {
    "id": "kPLQ8wu47lCW"
   },
   "outputs": [],
   "source": [
    "#Example of computing match\n",
    "print(compute_exact_match('hello','Hello'))"
   ]
  },
  {
   "cell_type": "code",
   "execution_count": null,
   "id": "FAzxtUfkBGi1",
   "metadata": {
    "id": "FAzxtUfkBGi1"
   },
   "outputs": [],
   "source": [
    "tokenizer = BertTokenizer.from_pretrained('bert-base-uncased') #Base untuned model"
   ]
  },
  {
   "cell_type": "code",
   "execution_count": null,
   "id": "88b8f282-4b8f-4463-96fd-6d685ba0b9cf",
   "metadata": {
    "id": "88b8f282-4b8f-4463-96fd-6d685ba0b9cf"
   },
   "outputs": [],
   "source": [
    "x = trainer . predict ( test_dataset )\n",
    "start_pos , end_pos = x. predictions\n",
    "start_pos = np . argmax (start_pos , axis =1)\n",
    "end_pos = np . argmax ( end_pos , axis =1)\n",
    "\n"
   ]
  },
  {
   "cell_type": "code",
   "execution_count": null,
   "id": "zojJ_Lyb4Nda",
   "metadata": {
    "id": "zojJ_Lyb4Nda"
   },
   "outputs": [],
   "source": [
    "#Calaculating the performance of our tuned model\n",
    "trained_exact_match_count = 0\n",
    "total_count = 0\n",
    "trained_f1_score_sum = 0\n",
    "trained_f1_score_list = []\n",
    "for k , (i , j) in enumerate ( zip(start_pos , end_pos)):\n",
    "    tokens = tokenizer . convert_ids_to_tokens (test_processed ['input_ids'][k])\n",
    "    answer = tokenizer.convert_tokens_to_string(tokens[i:j+1])\n",
    "    correct_answer = test_dict ['answers'][k]['text'][0]\n",
    "\n",
    "    print('Question: ', test_dict ['question'][k])\n",
    "    print('Answer:', answer)\n",
    "    print('Correct Answer: ', correct_answer)\n",
    "\n",
    "    if compute_exact_match( answer, correct_answer):\n",
    "        trained_exact_match_count += 1\n",
    "        print(\"Exact Match!\")\n",
    "    else:\n",
    "        print(\"No Exact Match!\")\n",
    "    total_count += 1\n",
    "    trained_f1_score_sum += f1_score( answer.lower(), correct_answer.lower())\n",
    "    trained_f1_score_list.append(f1_score( answer.lower(), correct_answer.lower()))\n",
    "    print('F1 Score: ', f1_score( answer.lower(), correct_answer.lower()))\n",
    "    print('#######')\n",
    "\n",
    "    # break"
   ]
  },
  {
   "cell_type": "code",
   "execution_count": null,
   "id": "7wGGcnXWkB6V",
   "metadata": {
    "id": "7wGGcnXWkB6V"
   },
   "outputs": [],
   "source": [
    "print('Total Count: ', total_count)\n",
    "print('Exact Match Percentage: ', trained_exact_match_count / total_count*100,\"%\")\n",
    "print('Average F1 Score: ', trained_f1_score_sum / total_count)\n",
    "print('Median F1 Score:' , np.median(trained_f1_score_list))\n",
    "if trained_exact_match_count > 500:\n",
    "    print('Median EM:', 1)\n",
    "elif trained_exact_match_count == 500:\n",
    "    print('Median EM:', 0.5)\n",
    "else:\n",
    "    print('Median EM:', 0)"
   ]
  },
  {
   "cell_type": "code",
   "execution_count": null,
   "id": "adec1a94-b7d7-46a3-8f94-642979d1d26f",
   "metadata": {
    "id": "adec1a94-b7d7-46a3-8f94-642979d1d26f"
   },
   "outputs": [],
   "source": [
    "#Calaculating the performance of the pretuned model\n",
    "question_answerer = pipeline (\"question-answering\", model='distilbert-base-cased-distilled-squad')\n",
    "pretrained_exact_match_count = 0\n",
    "total_count = 0\n",
    "pretrained_f1_score_sum = 0\n",
    "pretrained_f1_score_list = []\n",
    "for i in range(len ( test_dict ['question']) ):\n",
    "    result = question_answerer( question = test_dict ['question'][i], context = test_dict ['context'][i])\n",
    "    answer = result['answer']\n",
    "    correct_answer = test_dict ['answers'][i]['text'][0]\n",
    "\n",
    "    print('Question: ', test_dict ['question'][i])\n",
    "    print('Answer: ', answer)\n",
    "    print('Correct Answer: ', correct_answer)\n",
    "\n",
    "    if compute_exact_match( answer, correct_answer):\n",
    "        pretrained_exact_match_count += 1\n",
    "        print(\"Exact Match!\")\n",
    "    else:\n",
    "        print(\"No Exact Match!\")\n",
    "    total_count += 1\n",
    "    f1_score_val = f1_score( answer.lower(), correct_answer.lower())\n",
    "    pretrained_f1_score_sum += f1_score_val\n",
    "    print('F1 Score: ', f1_score_val)\n",
    "    pretrained_f1_score_list.append(f1_score_val)\n",
    "    print('######')\n"
   ]
  },
  {
   "cell_type": "code",
   "execution_count": null,
   "id": "CkvZ--7Q3-jo",
   "metadata": {
    "id": "CkvZ--7Q3-jo"
   },
   "outputs": [],
   "source": [
    "print('Total Count: ', total_count)\n",
    "print('Exact Match Percentage: ', pretrained_exact_match_count / total_count*100,\"%\")\n",
    "print('Average F1 Score: ', pretrained_f1_score_sum / total_count)\n",
    "print('Median F1 Score:' , np.median(pretrained_f1_score_list))\n",
    "if pretrained_exact_match_count > 500:\n",
    "    print('Median EM:', 1)\n",
    "elif pretrained_exact_match_count == 500:\n",
    "    print('Median EM:', 0.5)\n",
    "else:\n",
    "    print('Median EM:', 0)"
   ]
  }
 ],
 "metadata": {
  "accelerator": "GPU",
  "colab": {
   "gpuType": "T4",
   "provenance": []
  },
  "kernelspec": {
   "display_name": "Python 3 (ipykernel)",
   "language": "python",
   "name": "python3"
  },
  "language_info": {
   "codemirror_mode": {
    "name": "ipython",
    "version": 3
   },
   "file_extension": ".py",
   "mimetype": "text/x-python",
   "name": "python",
   "nbconvert_exporter": "python",
   "pygments_lexer": "ipython3",
   "version": "3.10.16"
  },
  "widgets": {
   "application/vnd.jupyter.widget-state+json": {
    "0d2e26e769a64854a381e6737bec65d7": {
     "model_module": "@jupyter-widgets/controls",
     "model_module_version": "1.5.0",
     "model_name": "ProgressStyleModel",
     "state": {
      "_model_module": "@jupyter-widgets/controls",
      "_model_module_version": "1.5.0",
      "_model_name": "ProgressStyleModel",
      "_view_count": null,
      "_view_module": "@jupyter-widgets/base",
      "_view_module_version": "1.2.0",
      "_view_name": "StyleView",
      "bar_color": null,
      "description_width": ""
     }
    },
    "2e64969d26d84513bcb68f670ae46c42": {
     "model_module": "@jupyter-widgets/base",
     "model_module_version": "1.2.0",
     "model_name": "LayoutModel",
     "state": {
      "_model_module": "@jupyter-widgets/base",
      "_model_module_version": "1.2.0",
      "_model_name": "LayoutModel",
      "_view_count": null,
      "_view_module": "@jupyter-widgets/base",
      "_view_module_version": "1.2.0",
      "_view_name": "LayoutView",
      "align_content": null,
      "align_items": null,
      "align_self": null,
      "border": null,
      "bottom": null,
      "display": null,
      "flex": null,
      "flex_flow": null,
      "grid_area": null,
      "grid_auto_columns": null,
      "grid_auto_flow": null,
      "grid_auto_rows": null,
      "grid_column": null,
      "grid_gap": null,
      "grid_row": null,
      "grid_template_areas": null,
      "grid_template_columns": null,
      "grid_template_rows": null,
      "height": null,
      "justify_content": null,
      "justify_items": null,
      "left": null,
      "margin": null,
      "max_height": null,
      "max_width": null,
      "min_height": null,
      "min_width": null,
      "object_fit": null,
      "object_position": null,
      "order": null,
      "overflow": null,
      "overflow_x": null,
      "overflow_y": null,
      "padding": null,
      "right": null,
      "top": null,
      "visibility": null,
      "width": null
     }
    },
    "320f3a8106ed4fa3bbd30ef89fc4cd9c": {
     "model_module": "@jupyter-widgets/base",
     "model_module_version": "1.2.0",
     "model_name": "LayoutModel",
     "state": {
      "_model_module": "@jupyter-widgets/base",
      "_model_module_version": "1.2.0",
      "_model_name": "LayoutModel",
      "_view_count": null,
      "_view_module": "@jupyter-widgets/base",
      "_view_module_version": "1.2.0",
      "_view_name": "LayoutView",
      "align_content": null,
      "align_items": null,
      "align_self": null,
      "border": null,
      "bottom": null,
      "display": null,
      "flex": null,
      "flex_flow": null,
      "grid_area": null,
      "grid_auto_columns": null,
      "grid_auto_flow": null,
      "grid_auto_rows": null,
      "grid_column": null,
      "grid_gap": null,
      "grid_row": null,
      "grid_template_areas": null,
      "grid_template_columns": null,
      "grid_template_rows": null,
      "height": null,
      "justify_content": null,
      "justify_items": null,
      "left": null,
      "margin": null,
      "max_height": null,
      "max_width": null,
      "min_height": null,
      "min_width": null,
      "object_fit": null,
      "object_position": null,
      "order": null,
      "overflow": null,
      "overflow_x": null,
      "overflow_y": null,
      "padding": null,
      "right": null,
      "top": null,
      "visibility": null,
      "width": null
     }
    },
    "4de22f1c86e94480a7b5893f8d336556": {
     "model_module": "@jupyter-widgets/controls",
     "model_module_version": "1.5.0",
     "model_name": "DescriptionStyleModel",
     "state": {
      "_model_module": "@jupyter-widgets/controls",
      "_model_module_version": "1.5.0",
      "_model_name": "DescriptionStyleModel",
      "_view_count": null,
      "_view_module": "@jupyter-widgets/base",
      "_view_module_version": "1.2.0",
      "_view_name": "StyleView",
      "description_width": ""
     }
    },
    "55ede0bb759849c29bb757bb53d0c23d": {
     "model_module": "@jupyter-widgets/base",
     "model_module_version": "1.2.0",
     "model_name": "LayoutModel",
     "state": {
      "_model_module": "@jupyter-widgets/base",
      "_model_module_version": "1.2.0",
      "_model_name": "LayoutModel",
      "_view_count": null,
      "_view_module": "@jupyter-widgets/base",
      "_view_module_version": "1.2.0",
      "_view_name": "LayoutView",
      "align_content": null,
      "align_items": null,
      "align_self": null,
      "border": null,
      "bottom": null,
      "display": null,
      "flex": null,
      "flex_flow": null,
      "grid_area": null,
      "grid_auto_columns": null,
      "grid_auto_flow": null,
      "grid_auto_rows": null,
      "grid_column": null,
      "grid_gap": null,
      "grid_row": null,
      "grid_template_areas": null,
      "grid_template_columns": null,
      "grid_template_rows": null,
      "height": null,
      "justify_content": null,
      "justify_items": null,
      "left": null,
      "margin": null,
      "max_height": null,
      "max_width": null,
      "min_height": null,
      "min_width": null,
      "object_fit": null,
      "object_position": null,
      "order": null,
      "overflow": null,
      "overflow_x": null,
      "overflow_y": null,
      "padding": null,
      "right": null,
      "top": null,
      "visibility": null,
      "width": null
     }
    },
    "6c83030173c1408d9ea0f2160a85fb6b": {
     "model_module": "@jupyter-widgets/controls",
     "model_module_version": "1.5.0",
     "model_name": "HTMLModel",
     "state": {
      "_dom_classes": [],
      "_model_module": "@jupyter-widgets/controls",
      "_model_module_version": "1.5.0",
      "_model_name": "HTMLModel",
      "_view_count": null,
      "_view_module": "@jupyter-widgets/controls",
      "_view_module_version": "1.5.0",
      "_view_name": "HTMLView",
      "description": "",
      "description_tooltip": null,
      "layout": "IPY_MODEL_759e8858847d437a9f1719303699226b",
      "placeholder": "​",
      "style": "IPY_MODEL_a0cf6bda18da4084b934a9475a55fefa",
      "value": "model.safetensors: 100%"
     }
    },
    "7035b1606b634165861a829e258dba8d": {
     "model_module": "@jupyter-widgets/controls",
     "model_module_version": "1.5.0",
     "model_name": "FloatProgressModel",
     "state": {
      "_dom_classes": [],
      "_model_module": "@jupyter-widgets/controls",
      "_model_module_version": "1.5.0",
      "_model_name": "FloatProgressModel",
      "_view_count": null,
      "_view_module": "@jupyter-widgets/controls",
      "_view_module_version": "1.5.0",
      "_view_name": "ProgressView",
      "bar_style": "success",
      "description": "",
      "description_tooltip": null,
      "layout": "IPY_MODEL_85febd4f5a4849038f8cfcdc99454d60",
      "max": 440449768,
      "min": 0,
      "orientation": "horizontal",
      "style": "IPY_MODEL_0d2e26e769a64854a381e6737bec65d7",
      "value": 440449768
     }
    },
    "72722a77d0674d5697b46c35d5bed3c5": {
     "model_module": "@jupyter-widgets/controls",
     "model_module_version": "1.5.0",
     "model_name": "DescriptionStyleModel",
     "state": {
      "_model_module": "@jupyter-widgets/controls",
      "_model_module_version": "1.5.0",
      "_model_name": "DescriptionStyleModel",
      "_view_count": null,
      "_view_module": "@jupyter-widgets/base",
      "_view_module_version": "1.2.0",
      "_view_name": "StyleView",
      "description_width": ""
     }
    },
    "7346cd2ecc98455d8fb1f2ee9bddcce4": {
     "model_module": "@jupyter-widgets/controls",
     "model_module_version": "1.5.0",
     "model_name": "ProgressStyleModel",
     "state": {
      "_model_module": "@jupyter-widgets/controls",
      "_model_module_version": "1.5.0",
      "_model_name": "ProgressStyleModel",
      "_view_count": null,
      "_view_module": "@jupyter-widgets/base",
      "_view_module_version": "1.2.0",
      "_view_name": "StyleView",
      "bar_color": null,
      "description_width": ""
     }
    },
    "759e8858847d437a9f1719303699226b": {
     "model_module": "@jupyter-widgets/base",
     "model_module_version": "1.2.0",
     "model_name": "LayoutModel",
     "state": {
      "_model_module": "@jupyter-widgets/base",
      "_model_module_version": "1.2.0",
      "_model_name": "LayoutModel",
      "_view_count": null,
      "_view_module": "@jupyter-widgets/base",
      "_view_module_version": "1.2.0",
      "_view_name": "LayoutView",
      "align_content": null,
      "align_items": null,
      "align_self": null,
      "border": null,
      "bottom": null,
      "display": null,
      "flex": null,
      "flex_flow": null,
      "grid_area": null,
      "grid_auto_columns": null,
      "grid_auto_flow": null,
      "grid_auto_rows": null,
      "grid_column": null,
      "grid_gap": null,
      "grid_row": null,
      "grid_template_areas": null,
      "grid_template_columns": null,
      "grid_template_rows": null,
      "height": null,
      "justify_content": null,
      "justify_items": null,
      "left": null,
      "margin": null,
      "max_height": null,
      "max_width": null,
      "min_height": null,
      "min_width": null,
      "object_fit": null,
      "object_position": null,
      "order": null,
      "overflow": null,
      "overflow_x": null,
      "overflow_y": null,
      "padding": null,
      "right": null,
      "top": null,
      "visibility": null,
      "width": null
     }
    },
    "788289188ba542ff8daa052454480fc8": {
     "model_module": "@jupyter-widgets/controls",
     "model_module_version": "1.5.0",
     "model_name": "DescriptionStyleModel",
     "state": {
      "_model_module": "@jupyter-widgets/controls",
      "_model_module_version": "1.5.0",
      "_model_name": "DescriptionStyleModel",
      "_view_count": null,
      "_view_module": "@jupyter-widgets/base",
      "_view_module_version": "1.2.0",
      "_view_name": "StyleView",
      "description_width": ""
     }
    },
    "844afd21f219469fb836e661e53dafdf": {
     "model_module": "@jupyter-widgets/controls",
     "model_module_version": "1.5.0",
     "model_name": "HTMLModel",
     "state": {
      "_dom_classes": [],
      "_model_module": "@jupyter-widgets/controls",
      "_model_module_version": "1.5.0",
      "_model_name": "HTMLModel",
      "_view_count": null,
      "_view_module": "@jupyter-widgets/controls",
      "_view_module_version": "1.5.0",
      "_view_name": "HTMLView",
      "description": "",
      "description_tooltip": null,
      "layout": "IPY_MODEL_8591c0eb397341cfa59a14ff931d5785",
      "placeholder": "​",
      "style": "IPY_MODEL_788289188ba542ff8daa052454480fc8",
      "value": " 570/570 [00:00&lt;00:00, 27.4kB/s]"
     }
    },
    "8591c0eb397341cfa59a14ff931d5785": {
     "model_module": "@jupyter-widgets/base",
     "model_module_version": "1.2.0",
     "model_name": "LayoutModel",
     "state": {
      "_model_module": "@jupyter-widgets/base",
      "_model_module_version": "1.2.0",
      "_model_name": "LayoutModel",
      "_view_count": null,
      "_view_module": "@jupyter-widgets/base",
      "_view_module_version": "1.2.0",
      "_view_name": "LayoutView",
      "align_content": null,
      "align_items": null,
      "align_self": null,
      "border": null,
      "bottom": null,
      "display": null,
      "flex": null,
      "flex_flow": null,
      "grid_area": null,
      "grid_auto_columns": null,
      "grid_auto_flow": null,
      "grid_auto_rows": null,
      "grid_column": null,
      "grid_gap": null,
      "grid_row": null,
      "grid_template_areas": null,
      "grid_template_columns": null,
      "grid_template_rows": null,
      "height": null,
      "justify_content": null,
      "justify_items": null,
      "left": null,
      "margin": null,
      "max_height": null,
      "max_width": null,
      "min_height": null,
      "min_width": null,
      "object_fit": null,
      "object_position": null,
      "order": null,
      "overflow": null,
      "overflow_x": null,
      "overflow_y": null,
      "padding": null,
      "right": null,
      "top": null,
      "visibility": null,
      "width": null
     }
    },
    "85febd4f5a4849038f8cfcdc99454d60": {
     "model_module": "@jupyter-widgets/base",
     "model_module_version": "1.2.0",
     "model_name": "LayoutModel",
     "state": {
      "_model_module": "@jupyter-widgets/base",
      "_model_module_version": "1.2.0",
      "_model_name": "LayoutModel",
      "_view_count": null,
      "_view_module": "@jupyter-widgets/base",
      "_view_module_version": "1.2.0",
      "_view_name": "LayoutView",
      "align_content": null,
      "align_items": null,
      "align_self": null,
      "border": null,
      "bottom": null,
      "display": null,
      "flex": null,
      "flex_flow": null,
      "grid_area": null,
      "grid_auto_columns": null,
      "grid_auto_flow": null,
      "grid_auto_rows": null,
      "grid_column": null,
      "grid_gap": null,
      "grid_row": null,
      "grid_template_areas": null,
      "grid_template_columns": null,
      "grid_template_rows": null,
      "height": null,
      "justify_content": null,
      "justify_items": null,
      "left": null,
      "margin": null,
      "max_height": null,
      "max_width": null,
      "min_height": null,
      "min_width": null,
      "object_fit": null,
      "object_position": null,
      "order": null,
      "overflow": null,
      "overflow_x": null,
      "overflow_y": null,
      "padding": null,
      "right": null,
      "top": null,
      "visibility": null,
      "width": null
     }
    },
    "8fd89f4375c249cc945944cd40825d22": {
     "model_module": "@jupyter-widgets/controls",
     "model_module_version": "1.5.0",
     "model_name": "FloatProgressModel",
     "state": {
      "_dom_classes": [],
      "_model_module": "@jupyter-widgets/controls",
      "_model_module_version": "1.5.0",
      "_model_name": "FloatProgressModel",
      "_view_count": null,
      "_view_module": "@jupyter-widgets/controls",
      "_view_module_version": "1.5.0",
      "_view_name": "ProgressView",
      "bar_style": "success",
      "description": "",
      "description_tooltip": null,
      "layout": "IPY_MODEL_55ede0bb759849c29bb757bb53d0c23d",
      "max": 570,
      "min": 0,
      "orientation": "horizontal",
      "style": "IPY_MODEL_7346cd2ecc98455d8fb1f2ee9bddcce4",
      "value": 570
     }
    },
    "9fcf9b58525c4a02a4460417e436f018": {
     "model_module": "@jupyter-widgets/controls",
     "model_module_version": "1.5.0",
     "model_name": "HTMLModel",
     "state": {
      "_dom_classes": [],
      "_model_module": "@jupyter-widgets/controls",
      "_model_module_version": "1.5.0",
      "_model_name": "HTMLModel",
      "_view_count": null,
      "_view_module": "@jupyter-widgets/controls",
      "_view_module_version": "1.5.0",
      "_view_name": "HTMLView",
      "description": "",
      "description_tooltip": null,
      "layout": "IPY_MODEL_2e64969d26d84513bcb68f670ae46c42",
      "placeholder": "​",
      "style": "IPY_MODEL_72722a77d0674d5697b46c35d5bed3c5",
      "value": "config.json: 100%"
     }
    },
    "a0cf6bda18da4084b934a9475a55fefa": {
     "model_module": "@jupyter-widgets/controls",
     "model_module_version": "1.5.0",
     "model_name": "DescriptionStyleModel",
     "state": {
      "_model_module": "@jupyter-widgets/controls",
      "_model_module_version": "1.5.0",
      "_model_name": "DescriptionStyleModel",
      "_view_count": null,
      "_view_module": "@jupyter-widgets/base",
      "_view_module_version": "1.2.0",
      "_view_name": "StyleView",
      "description_width": ""
     }
    },
    "a3157155f4514321b12623adae282de7": {
     "model_module": "@jupyter-widgets/base",
     "model_module_version": "1.2.0",
     "model_name": "LayoutModel",
     "state": {
      "_model_module": "@jupyter-widgets/base",
      "_model_module_version": "1.2.0",
      "_model_name": "LayoutModel",
      "_view_count": null,
      "_view_module": "@jupyter-widgets/base",
      "_view_module_version": "1.2.0",
      "_view_name": "LayoutView",
      "align_content": null,
      "align_items": null,
      "align_self": null,
      "border": null,
      "bottom": null,
      "display": null,
      "flex": null,
      "flex_flow": null,
      "grid_area": null,
      "grid_auto_columns": null,
      "grid_auto_flow": null,
      "grid_auto_rows": null,
      "grid_column": null,
      "grid_gap": null,
      "grid_row": null,
      "grid_template_areas": null,
      "grid_template_columns": null,
      "grid_template_rows": null,
      "height": null,
      "justify_content": null,
      "justify_items": null,
      "left": null,
      "margin": null,
      "max_height": null,
      "max_width": null,
      "min_height": null,
      "min_width": null,
      "object_fit": null,
      "object_position": null,
      "order": null,
      "overflow": null,
      "overflow_x": null,
      "overflow_y": null,
      "padding": null,
      "right": null,
      "top": null,
      "visibility": null,
      "width": null
     }
    },
    "d174d2b9a77f4f23b2170ef2e5ab3ee8": {
     "model_module": "@jupyter-widgets/controls",
     "model_module_version": "1.5.0",
     "model_name": "HTMLModel",
     "state": {
      "_dom_classes": [],
      "_model_module": "@jupyter-widgets/controls",
      "_model_module_version": "1.5.0",
      "_model_name": "HTMLModel",
      "_view_count": null,
      "_view_module": "@jupyter-widgets/controls",
      "_view_module_version": "1.5.0",
      "_view_name": "HTMLView",
      "description": "",
      "description_tooltip": null,
      "layout": "IPY_MODEL_320f3a8106ed4fa3bbd30ef89fc4cd9c",
      "placeholder": "​",
      "style": "IPY_MODEL_4de22f1c86e94480a7b5893f8d336556",
      "value": " 440M/440M [00:01&lt;00:00, 238MB/s]"
     }
    },
    "d62871715d2b4cc4b18caac46d21b9b4": {
     "model_module": "@jupyter-widgets/controls",
     "model_module_version": "1.5.0",
     "model_name": "HBoxModel",
     "state": {
      "_dom_classes": [],
      "_model_module": "@jupyter-widgets/controls",
      "_model_module_version": "1.5.0",
      "_model_name": "HBoxModel",
      "_view_count": null,
      "_view_module": "@jupyter-widgets/controls",
      "_view_module_version": "1.5.0",
      "_view_name": "HBoxView",
      "box_style": "",
      "children": [
       "IPY_MODEL_6c83030173c1408d9ea0f2160a85fb6b",
       "IPY_MODEL_7035b1606b634165861a829e258dba8d",
       "IPY_MODEL_d174d2b9a77f4f23b2170ef2e5ab3ee8"
      ],
      "layout": "IPY_MODEL_a3157155f4514321b12623adae282de7"
     }
    },
    "e6ab49917e574301bb546c2c256b9bff": {
     "model_module": "@jupyter-widgets/controls",
     "model_module_version": "1.5.0",
     "model_name": "HBoxModel",
     "state": {
      "_dom_classes": [],
      "_model_module": "@jupyter-widgets/controls",
      "_model_module_version": "1.5.0",
      "_model_name": "HBoxModel",
      "_view_count": null,
      "_view_module": "@jupyter-widgets/controls",
      "_view_module_version": "1.5.0",
      "_view_name": "HBoxView",
      "box_style": "",
      "children": [
       "IPY_MODEL_9fcf9b58525c4a02a4460417e436f018",
       "IPY_MODEL_8fd89f4375c249cc945944cd40825d22",
       "IPY_MODEL_844afd21f219469fb836e661e53dafdf"
      ],
      "layout": "IPY_MODEL_fa6677bf32074af3a2c488adf559c491"
     }
    },
    "fa6677bf32074af3a2c488adf559c491": {
     "model_module": "@jupyter-widgets/base",
     "model_module_version": "1.2.0",
     "model_name": "LayoutModel",
     "state": {
      "_model_module": "@jupyter-widgets/base",
      "_model_module_version": "1.2.0",
      "_model_name": "LayoutModel",
      "_view_count": null,
      "_view_module": "@jupyter-widgets/base",
      "_view_module_version": "1.2.0",
      "_view_name": "LayoutView",
      "align_content": null,
      "align_items": null,
      "align_self": null,
      "border": null,
      "bottom": null,
      "display": null,
      "flex": null,
      "flex_flow": null,
      "grid_area": null,
      "grid_auto_columns": null,
      "grid_auto_flow": null,
      "grid_auto_rows": null,
      "grid_column": null,
      "grid_gap": null,
      "grid_row": null,
      "grid_template_areas": null,
      "grid_template_columns": null,
      "grid_template_rows": null,
      "height": null,
      "justify_content": null,
      "justify_items": null,
      "left": null,
      "margin": null,
      "max_height": null,
      "max_width": null,
      "min_height": null,
      "min_width": null,
      "object_fit": null,
      "object_position": null,
      "order": null,
      "overflow": null,
      "overflow_x": null,
      "overflow_y": null,
      "padding": null,
      "right": null,
      "top": null,
      "visibility": null,
      "width": null
     }
    }
   }
  }
 },
 "nbformat": 4,
 "nbformat_minor": 5
}
